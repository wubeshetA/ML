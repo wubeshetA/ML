{
  "nbformat": 4,
  "nbformat_minor": 0,
  "metadata": {
    "colab": {
      "provenance": [],
      "authorship_tag": "ABX9TyNGe40PbNkI6Wedv651M2FU",
      "include_colab_link": true
    },
    "kernelspec": {
      "name": "python3",
      "display_name": "Python 3"
    },
    "language_info": {
      "name": "python"
    }
  },
  "cells": [
    {
      "cell_type": "markdown",
      "metadata": {
        "id": "view-in-github",
        "colab_type": "text"
      },
      "source": [
        "<a href=\"https://colab.research.google.com/github/wubeshetA/ML/blob/main/supervised_learning/Linear_Regression.ipynb\" target=\"_parent\"><img src=\"https://colab.research.google.com/assets/colab-badge.svg\" alt=\"Open In Colab\"/></a>"
      ]
    },
    {
      "cell_type": "code",
      "source": [],
      "metadata": {
        "id": "xtV7Bsnl5ITn"
      },
      "execution_count": null,
      "outputs": []
    },
    {
      "cell_type": "markdown",
      "source": [
        "# **Linear Regression**"
      ],
      "metadata": {
        "id": "PnKpX5YW5JCE"
      }
    },
    {
      "cell_type": "markdown",
      "source": [
        "## **Linear Regression with One Variable**"
      ],
      "metadata": {
        "id": "9-XY2HB65G-9"
      }
    },
    {
      "cell_type": "markdown",
      "source": [
        "The following is the very basic implementation of Linear regression with one variable."
      ],
      "metadata": {
        "id": "KvA3C1_I6TIg"
      }
    },
    {
      "cell_type": "markdown",
      "source": [
        "## **Notes**\n",
        "\n",
        "The goal of Linear regression model is to find a line (find w and b) that fits the data points best. This line is define by $$f_{w,b}(x) = wx + b \\tag{1}$$\n",
        "\n",
        "In linear regression, we utilize input training data to fit the parameters $w$,$b$ by minimizing a measure of the error between our predictions $f_{w,b}(x^{(i)})$ and the actual data $y^{(i)}$. The measure is called the $cost$, $J(w,b)$. In training you measure the cost over all of our training samples $x^{(i)},y^{(i)}$\n",
        "$$J(w,b) = \\frac{1}{2m} \\sum\\limits_{i = 0}^{m-1} (f_{w,b}(x^{(i)}) - y^{(i)})^2\\tag{2}$$\n",
        "\n",
        "To minimize the cost function (to find the best fitting line), gradient descent algorithm says:\n",
        "\n",
        "$$\\begin{align*} \\text{repeat}&\\text{ until convergence:} \\; \\lbrace \\newline\n",
        "\\;  w &= w -  \\alpha \\frac{\\partial J(w,b)}{\\partial w} \\tag{3}  \\; \\newline\n",
        " b &= b -  \\alpha \\frac{\\partial J(w,b)}{\\partial b}  \\newline \\rbrace\n",
        "\\end{align*}$$\n",
        "where, parameters $w$, $b$ are updated simultaneously.  \n",
        "The gradient is defined as:\n",
        "$$\n",
        "\\begin{align}\n",
        "\\frac{\\partial J(w,b)}{\\partial w}  &= \\frac{1}{m} \\sum\\limits_{i = 0}^{m-1} (f_{w,b}(x^{(i)}) - y^{(i)})x^{(i)} \\tag{4}\\\\\n",
        "  \\frac{\\partial J(w,b)}{\\partial b}  &= \\frac{1}{m} \\sum\\limits_{i = 0}^{m-1} (f_{w,b}(x^{(i)}) - y^{(i)}) \\tag{5}\\\\\n",
        "\\end{align}\n",
        "$$\n",
        "\n",
        "Here *simultaniously* means that you calculate the partial derivatives for all the parameters before updating any of the parameters."
      ],
      "metadata": {
        "id": "S4jywxqFEnt9"
      }
    },
    {
      "cell_type": "code",
      "source": [
        "# import packages\n",
        "import numpy as np\n",
        "import matplotlib.pyplot as plt\n",
        "from mpl_toolkits.mplot3d import Axes3D"
      ],
      "metadata": {
        "id": "wWuDOtzv6fIs"
      },
      "execution_count": 3,
      "outputs": []
    },
    {
      "cell_type": "code",
      "source": [
        "# Training data\n",
        "x_train = np.array([1.0, 2.0])\n",
        "y_train = np.array([300.0, 500.0])\n"
      ],
      "metadata": {
        "id": "H0gNSobQ648l"
      },
      "execution_count": 27,
      "outputs": []
    },
    {
      "cell_type": "code",
      "source": [
        "# raw data visualization\n",
        "plt.scatter(x_train, y_train)\n",
        "plt.show()"
      ],
      "metadata": {
        "colab": {
          "base_uri": "https://localhost:8080/",
          "height": 430
        },
        "id": "rTDiqekbRbgG",
        "outputId": "c13438dc-bef6-4bd7-9733-d27425af0788"
      },
      "execution_count": 28,
      "outputs": [
        {
          "output_type": "display_data",
          "data": {
            "text/plain": [
              "<Figure size 640x480 with 1 Axes>"
            ],
            "image/png": "[encoded data removed]"
          },
          "metadata": {}
        }
      ]
    },
    {
      "cell_type": "markdown",
      "source": [
        "**Compute cost**"
      ],
      "metadata": {
        "id": "Mcast1ePTQot"
      }
    },
    {
      "cell_type": "code",
      "source": [
        "def cost(x_train, y_train, w, b):\n",
        "  # cost function\n",
        "  # here is the formula for cost (error):  mean square error\n",
        "  \"\"\"\n",
        "  f_wb = w*x_train[i] + b\n",
        "  MSE(mean squared error) = (∑((f_wb - y[i]) ** 2))/2*m = cost\n",
        "  \"\"\"\n",
        "  m = len(x_train)\n",
        "  total_error = 0\n",
        "  for i in range(m):\n",
        "    # calculate the total error\n",
        "    f_wb = w*x_train[i] + b\n",
        "    total_error += (f_wb - y_train[i])**2\n",
        "\n",
        "  # average error (cost)\n",
        "  avg_cost = total_error/(2*m)\n",
        "  return avg_cost"
      ],
      "metadata": {
        "id": "ESCmI5k9T-Gh"
      },
      "execution_count": 60,
      "outputs": []
    },
    {
      "cell_type": "code",
      "source": [
        "def gradient(x_train, y_train, w, b):\n",
        "  m = len(x_train)\n",
        "  dJ_w = 0\n",
        "  dJ_b = 0\n",
        "  for i in range(m):\n",
        "    # calculate the total error\n",
        "    f_wb = w*x_train[i] + b\n",
        "    dJ_w += ((f_wb - y_train[i])*x_train[i])\n",
        "    dJ_b += ((f_wb - y_train[i]))\n",
        "  # average error (cost)\n",
        "  dJ_w = dJ_w / m\n",
        "  dJ_b = dJ_b / m\n",
        "  return (dJ_w, dJ_b)"
      ],
      "metadata": {
        "id": "_tpGR6DMeXZE"
      },
      "execution_count": 61,
      "outputs": []
    },
    {
      "cell_type": "code",
      "source": [
        "# Find optimized W and B\n",
        "history = []\n",
        "def find_best_fiting(x_train, y_train, init_w, init_b, alpha, iteration):\n",
        "\n",
        "  w = init_w\n",
        "  b = init_b\n",
        "\n",
        "  for i in range(iteration):\n",
        "    # the following condition is just for plot and printing some values.\n",
        "    if (i < 100 and i % 10 == 0) \\\n",
        "     or (i >= 100 and i <= 1000 and i % 100 == 0 )\\\n",
        "      or (i >= 1000 and i <= 10000 and i % 1000 == 0)\\\n",
        "       or (i >= 10_000 and i % 10_000 == 0):\n",
        "       cost_v = cost(x_train, y_train, w, b)\n",
        "       history.append((w, b, cost_v))\n",
        "       print(f\"{i}th, w: {w}, b: {b}, cost: {cost_v}\")\n",
        "\n",
        "    dJ_w, dJ_b = gradient(x_train, y_train, w, b)\n",
        "    w = w - alpha * dJ_w\n",
        "    b = b - alpha * dJ_b\n",
        "  return (w, b)\n"
      ],
      "metadata": {
        "id": "tsrWSxP0S0sh"
      },
      "execution_count": 101,
      "outputs": []
    },
    {
      "cell_type": "code",
      "source": [
        "alpha = 10**-1\n",
        "iteration = 60_000\n",
        "init_w = 0\n",
        "init_b = 0\n",
        "\n",
        "w, b = find_best_fiting(x_train, y_train, init_w, init_b, alpha, iteration)\n",
        "\n"
      ],
      "metadata": {
        "colab": {
          "base_uri": "https://localhost:8080/"
        },
        "id": "dHgaMiW7h6jZ",
        "outputId": "f8b39108-9731-41fc-991e-a63cdcaea461"
      },
      "execution_count": 104,
      "outputs": [
        {
          "output_type": "stream",
          "name": "stdout",
          "text": [
            "0th, w: 0, b: 0, cost: 85000.0\n",
            "10th, w: 187.3365192652637, b: 114.11368899906252, cost: 31.960145876394353\n",
            "20th, w: 190.8378696388507, b: 114.72866110748565, cost: 10.97865028498776\n",
            "30th, w: 191.5239647952593, b: 113.71306837386942, cost: 9.479412650313236\n",
            "40th, w: 192.12296624983043, b: 112.74528659260064, cost: 8.18816207215246\n",
            "50th, w: 192.67909616704983, b: 111.84547090276006, cost: 7.072801615524524\n",
            "60th, w: 193.19595438151293, b: 111.0091770667899, cost: 6.109371340372474\n",
            "70th, w: 193.67632211394098, b: 110.2319257534754, cost: 5.277175892031127\n",
            "80th, w: 194.1227757335264, b: 109.50954862265883, cost: 4.558338958937293\n",
            "90th, w: 194.53770958910619, b: 108.83817154124881, cost: 3.937419273051312\n",
            "100th, w: 194.92334898582195, b: 108.2141938899617, cost: 3.401078917442066\n",
            "200th, w: 197.55880460472218, b: 103.94993712273927, cost: 0.7864428607019248\n",
            "300th, w: 198.82610899561894, b: 101.8993955441763, cost: 0.18185181472181672\n",
            "400th, w: 199.43551421863552, b: 100.91335718041375, cost: 0.04205020373393656\n",
            "500th, w: 199.72855725431623, b: 100.43920358851594, cost: 0.009723409341673013\n",
            "600th, w: 199.86947206357218, b: 100.2111986376216, cost: 0.0022483764840693452\n",
            "700th, w: 199.93723338545968, b: 100.10155851568499, cost: 0.0005198996192058794\n",
            "800th, w: 199.96981758841304, b: 100.04883616781011, cost: 0.00012021812893260649\n",
            "900th, w: 199.98548626565454, b: 100.02348371547467, cost: 2.7798440295181384e-05\n",
            "1000th, w: 199.9930208199552, b: 100.01129255052611, cost: 6.427926384502476e-06\n",
            "2000th, w: 199.99999538622166, b: 100.0000074652502, cost: 2.8091540449696004e-12\n",
            "3000th, w: 199.99999999694992, b: 100.00000000493513, cost: 1.2276549919795037e-18\n",
            "4000th, w: 199.99999999999793, b: 100.00000000000335, cost: 5.492996255234949e-25\n",
            "5000th, w: 199.9999999999991, b: 100.00000000000144, cost: 1.050131637030211e-25\n",
            "6000th, w: 199.9999999999991, b: 100.00000000000144, cost: 1.050131637030211e-25\n",
            "7000th, w: 199.9999999999991, b: 100.00000000000144, cost: 1.050131637030211e-25\n",
            "8000th, w: 199.9999999999991, b: 100.00000000000144, cost: 1.050131637030211e-25\n",
            "9000th, w: 199.9999999999991, b: 100.00000000000144, cost: 1.050131637030211e-25\n",
            "10000th, w: 199.9999999999991, b: 100.00000000000144, cost: 1.050131637030211e-25\n",
            "20000th, w: 199.9999999999991, b: 100.00000000000144, cost: 1.050131637030211e-25\n",
            "30000th, w: 199.9999999999991, b: 100.00000000000144, cost: 1.050131637030211e-25\n",
            "40000th, w: 199.9999999999991, b: 100.00000000000144, cost: 1.050131637030211e-25\n",
            "50000th, w: 199.9999999999991, b: 100.00000000000144, cost: 1.050131637030211e-25\n"
          ]
        }
      ]
    },
    {
      "cell_type": "markdown",
      "source": [],
      "metadata": {
        "id": "N-xQhIh-T-pk"
      }
    },
    {
      "cell_type": "code",
      "source": [
        "w, b, j = zip(*history)\n",
        "\n",
        "# # Creating a 3D plot\n",
        "fig = plt.figure()\n",
        "ax = fig.add_subplot(projection='3d')\n",
        "# Plotting\n",
        "ax.scatter(w[1:], b[1:], j[1:], color='green')\n",
        "ax.plot(w, b, j, color='red')\n",
        "\n",
        "ax.set_xlabel('w')\n",
        "ax.set_ylabel('b')\n",
        "ax.set_zlabel('j')\n",
        "\n",
        "plt.show()"
      ],
      "metadata": {
        "colab": {
          "base_uri": "https://localhost:8080/",
          "height": 415
        },
        "id": "2A4Hyqzj5Zps",
        "outputId": "8b155bdf-56f5-40d7-f257-d045e66191f7"
      },
      "execution_count": 110,
      "outputs": [
        {
          "output_type": "display_data",
          "data": {
            "text/plain": [
              "<Figure size 640x480 with 1 Axes>"
            ],
            "image/png": "[encoded data removed]"
          },
          "metadata": {}
        }
      ]
    },
    {
      "cell_type": "markdown",
      "source": [
        "## **Linear Regression with Multiple Variables(features)**\n",
        "\n",
        "\n",
        "\n"
      ],
      "metadata": {
        "id": "z-GNzU-vPA-t"
      }
    },
    {
      "cell_type": "markdown",
      "source": [
        "The model's prediction with multiple variables is given by the linear model:\n",
        "\n",
        "$$ f_{\\mathbf{w},b}(\\mathbf{x}) =  w_0x_0 + w_1x_1 +... + w_{n-1}x_{n-1} + b \\tag{1}$$, where $n$ is number of features\n",
        "\n",
        "or in vector notation:\n",
        "$$ f_{\\mathbf{w},b}(\\mathbf{x}) = \\mathbf{w} \\cdot \\mathbf{x} + b  \\tag{2} $$\n",
        "where $\\cdot$ is a vector `dot product`  \n",
        "\n",
        "\n",
        "\n",
        "\n",
        "### **Cost with Multiple Varaibles**\n",
        "\n",
        "The equation for the cost function with multiple variables $J(\\mathbf{w},b)$ is:\n",
        "$$J(\\mathbf{w},b) = \\frac{1}{2m} \\sum\\limits_{i = 0}^{m-1} (f_{\\mathbf{w},b}(\\mathbf{x}^{(i)}) - y^{(i)})^2 \\tag{3}$$\n",
        "where:\n",
        "$$ f_{\\mathbf{w},b}(\\mathbf{x}^{(i)}) = \\mathbf{w} \\cdot \\mathbf{x}^{(i)} + b  \\tag{4} $$\n",
        "\n",
        "\n",
        "\n",
        "\n",
        "\n",
        "### **Finding optimized w, b with gradient descent**\n",
        "\n",
        "\n",
        "Gradient descent for multiple variables:\n",
        "\n",
        "$$\\begin{align*} \\text{repeat}&\\text{ until convergence:} \\; \\lbrace \\newline\\;\n",
        "& w_j = w_j -  \\alpha \\frac{\\partial J(\\mathbf{w},b)}{\\partial w_j} \\tag{3}  \\; & \\text{for j = 0..n-1}\\newline\n",
        "&b\\ \\ = b -  \\alpha \\frac{\\partial J(\\mathbf{w},b)}{\\partial b}  \\newline \\rbrace\n",
        "\\end{align*}$$\n",
        "\n",
        "where, n is the number of features, parameters $w_j$,  $b$, are updated simultaneously and where  \n",
        "\n",
        "$$\n",
        "\\begin{align}\n",
        "\\frac{\\partial J(\\mathbf{w},b)}{\\partial w_j}  &= \\frac{1}{m} \\sum\\limits_{i = 0}^{m-1} (f_{\\mathbf{w},b}(\\mathbf{x}^{(i)}) - y^{(i)})x_{j}^{(i)} \\tag{4}  \\\\\n",
        "\\frac{\\partial J(\\mathbf{w},b)}{\\partial b}  &= \\frac{1}{m} \\sum\\limits_{i = 0}^{m-1} (f_{\\mathbf{w},b}(\\mathbf{x}^{(i)}) - y^{(i)}) \\tag{5}\n",
        "\\end{align}\n",
        "$$\n",
        "* m is the number of training examples in the data set\n",
        "\n",
        "    \n",
        "*  $f_{\\mathbf{w},b}(\\mathbf{x}^{(i)})$ is the model's prediction, while $y^{(i)}$ is the target value\n"
      ],
      "metadata": {
        "id": "FITlld0uUcVX"
      }
    },
    {
      "cell_type": "markdown",
      "source": [
        "### Training data\n",
        "\n",
        " The training dataset contains three examples with four features (size, bedrooms, floors and, age) shown in the table below.  Note that, unlike the earlier labs, size is in sqft rather than 1000 sqft. This causes an issue, which you will solve in the next lab!\n",
        "\n",
        "| Size (sqft) | Number of Bedrooms  | Number of floors | Age of  Home | Price (1000s dollars)  |   \n",
        "| ----------------| ------------------- |----------------- |--------------|-------------- |  \n",
        "| 2104            | 5                   | 1                | 45           | 460           |  \n",
        "| 1416            | 3                   | 2                | 40           | 232           |  \n",
        "| 852             | 2                   | 1                | 35           | 178           |  \n",
        "\n",
        "You will build a linear regression model using these values so you can then predict the price for other houses. For example, a house with 1200 sqft, 3 bedrooms, 1 floor, 40 years old."
      ],
      "metadata": {
        "id": "j79zwvV6Sjbo"
      }
    },
    {
      "cell_type": "code",
      "source": [
        "# Training data\n",
        "x_train = np.array([[2104, 5, 1, 45], [1416, 3, 2, 40], [852, 2, 1, 35]])\n",
        "y_train = np.array([460, 232, 178])"
      ],
      "metadata": {
        "id": "eTZ0_2GEXtPo"
      },
      "execution_count": 4,
      "outputs": []
    },
    {
      "cell_type": "markdown",
      "source": [],
      "metadata": {
        "id": "QLETfYKNWj4-"
      }
    },
    {
      "cell_type": "code",
      "source": [
        "# Cost\n",
        "def compute_cost(x, y, w, b):\n",
        "\n",
        "\n",
        "  cost = 0\n",
        "  m = len(x)\n",
        "  for i in range(m):\n",
        "\n",
        "    f_wb = np.dot(x[i], w) + b\n",
        "    # if our model was on single feature the above would be\n",
        "    # f_wb = X[i] * w + b\n",
        "    cost = cost + ((f_wb - y[i])**2)\n",
        "  cost = cost / (2*m) # cost (average error)\n",
        "  return cost\n",
        "\n"
      ],
      "metadata": {
        "id": "VR-u4SaNXjnv"
      },
      "execution_count": 5,
      "outputs": []
    },
    {
      "cell_type": "markdown",
      "source": [
        "Compute Gradient (slop) for Multiple features"
      ],
      "metadata": {
        "id": "_e7DMQjVYREH"
      }
    },
    {
      "cell_type": "code",
      "source": [
        "def compute_gradient(x, y, w, b):\n",
        "    \"\"\"\n",
        "    Computes the gradient for linear regression\n",
        "    Args:\n",
        "      X (ndarray (m,n)): Data, m examples with n features\n",
        "      y (ndarray (m,)) : target values\n",
        "      w (ndarray (n,)) : model parameters\n",
        "      b (scalar)       : model parameter\n",
        "\n",
        "    Returns:\n",
        "      dj_dw (ndarray (n,)): The gradient of the cost w.r.t. the parameters w.\n",
        "      dj_db (scalar):       The gradient of the cost w.r.t. the parameter b.\n",
        "    \"\"\"\n",
        "    m, n = x.shape # (number of examples, number of features)\n",
        "    dj_dw = np.zeros((n, ))\n",
        "    dj_db = 0\n",
        "    for i in range(m):\n",
        "        f_wb = np.dot(x[i], w) + b\n",
        "        err = f_wb - y[i]\n",
        "        dj_db += err\n",
        "        for j in range(n):\n",
        "            dj_dw[j] = dj_dw[j] + err * x[i, j]\n",
        "    dj_dw /= m\n",
        "    dj_db /= m\n",
        "\n",
        "    return (dj_dw, dj_db)\n",
        "\n"
      ],
      "metadata": {
        "id": "YFftAGEoa40t"
      },
      "execution_count": 9,
      "outputs": []
    },
    {
      "cell_type": "code",
      "source": [
        "def compute_best_fit(x_train, y_train, init_w, init_b, alpha, iteration):\n",
        "\n",
        "    \"\"\"\n",
        "    Performs batch gradient descent to learn w and b. Updates w and b by taking\n",
        "    num_iters gradient steps with learning rate alpha\n",
        "\n",
        "    Args:\n",
        "      x_train (ndarray (m,n))   : Data, m examples with n features\n",
        "      y_train (ndarray (m,))    : target values\n",
        "      init_w (ndarray (n,)) : initial model parameters\n",
        "      init_b (scalar)       : initial model parameter\n",
        "      alpha (float)       : Learning rate\n",
        "      iteration (int)     : number of iterations to run gradient descent\n",
        "\n",
        "    Returns:\n",
        "      w (ndarray (n,)) : Updated values of parameters\n",
        "      b (scalar)       : Updated value of parameter\n",
        "      \"\"\"\n",
        "    w = init_w\n",
        "    b = init_b\n",
        "    for i in range(iteration):\n",
        "\n",
        "\n",
        "        if (i < 100 and i % 10 == 0) \\\n",
        "        or (i >= 100 and i <= 1000 and i % 100 == 0 )\\\n",
        "         or (i >= 10_000 and i % 10_000 == 0):\n",
        "\n",
        "         cost_v = compute_cost(x_train, y_train, w, b)\n",
        "        #  history.append((w, b, cost_v))\n",
        "         print(f\"{i}th, w: {w}, b: {b}, cost: {cost_v}\")\n",
        "\n",
        "        dj_dw, dj_db = compute_gradient(x_train, y_train, w, b)\n",
        "        # decrease w and b\n",
        "        w = w - alpha * dj_dw\n",
        "        b = b - alpha * dj_db\n",
        "\n",
        "\n",
        "    return (w, b)"
      ],
      "metadata": {
        "id": "CYFL7d8bfrpi"
      },
      "execution_count": 11,
      "outputs": []
    },
    {
      "cell_type": "code",
      "source": [
        "# initialize paramenters\n",
        "init_w = np.zeros_like(x_train[0])\n",
        "init_b = 0.\n",
        "# gradient descent settings\n",
        "iterations = 1000\n",
        "alpha = 5.0e-7\n",
        "\n",
        "# run gradient descent\n",
        "w, b = compute_best_fit(x_train, y_train, init_w, init_b, alpha, iterations)\n"
      ],
      "metadata": {
        "colab": {
          "base_uri": "https://localhost:8080/"
        },
        "id": "Qy9UhcgsTzqt",
        "outputId": "96256e96-15d7-476b-c8ce-9318cfff0e6d"
      },
      "execution_count": 24,
      "outputs": [
        {
          "output_type": "stream",
          "name": "stdout",
          "text": [
            "0th, w: [0 0 0 0], b: 0.0, cost: 49518.0\n",
            "10th, w: [2.02184672e-01 4.98191696e-04 4.85540318e-05 4.39075551e-03], b: 9.93447426134968e-05, cost: 696.9718639233548\n",
            "20th, w: [ 2.02203074e-01  5.31142534e-04 -6.63628987e-05  3.66547540e-03], b: 7.52101919780713e-05, cost: 696.8636174971624\n",
            "30th, w: [ 2.02221453e-01  5.64091012e-04 -1.81263214e-04  2.94051918e-03], b: 5.1087043518004745e-05, cost: 696.7554660853489\n",
            "40th, w: [ 0.20223982  0.00059704 -0.00029615  0.00221589], b: 2.6975301357397917e-05, cost: 696.6474096031822\n",
            "50th, w: [ 0.20225819  0.00062998 -0.00041101  0.00149158], b: 2.8749604245047186e-06, cost: 696.5394479662783\n",
            "60th, w: [ 0.20227654  0.00066292 -0.00052586  0.00076759], b: -2.121398435016689e-05, cost: 696.4315810903236\n",
            "70th, w: [ 2.02294886e-01  6.95861673e-04 -6.40698346e-04  4.39339840e-05], b: -4.52915380338551e-05, cost: 696.3238088910889\n",
            "80th, w: [ 0.20231322  0.0007288  -0.00075552 -0.0006794 ], b: -6.935770569154544e-05, cost: 696.2161312844124\n",
            "90th, w: [ 0.20233155  0.00076173 -0.00087032 -0.00140242], b: -9.341249238597148e-05, cost: 696.1085481862066\n",
            "100th, w: [ 0.20234987  0.00079467 -0.0009851  -0.00212511], b: -0.00011745590317761635, cost: 696.0010595124644\n",
            "200th, w: [ 0.20253264  0.00112386 -0.00213203 -0.00933426], b: -0.00035726544814005507, cost: 694.9313476914762\n",
            "300th, w: [ 0.20271459  0.00145282 -0.00327731 -0.01651125], b: -0.0005959429526822015, cost: 693.8709864577195\n",
            "400th, w: [ 0.20289572  0.00178156 -0.00442095 -0.02365622], b: -0.0008334934403059189, cost: 692.8198930237817\n",
            "500th, w: [ 0.20307605  0.00211006 -0.00556296 -0.0307693 ], b: -0.001069921912224527, cost: 691.7779853352548\n",
            "600th, w: [ 0.20325557  0.00243834 -0.00670333 -0.03785064], b: -0.0013052333474616931, cost: 690.7451820642369\n",
            "700th, w: [ 0.20343429  0.00276639 -0.00784209 -0.04490038], b: -0.0015394327029498848, cost: 689.7214026029069\n",
            "800th, w: [ 0.20361222  0.00309422 -0.00897923 -0.05191866], b: -0.00177252491362838, cost: 688.706567057147\n",
            "900th, w: [ 0.20378935  0.00342182 -0.01011477 -0.05890562], b: -0.0020045148925408574, cost: 687.7005962402227\n"
          ]
        }
      ]
    },
    {
      "cell_type": "markdown",
      "source": [
        "### **Predictions**"
      ],
      "metadata": {
        "id": "gv7h-s68AAZ7"
      }
    },
    {
      "cell_type": "code",
      "source": [
        "print(\"trainig data:\\n\", x_train)\n",
        "print(y_train)\n",
        "print(\"-----------------\")\n",
        "\n",
        "print(w, b)\n",
        "def predict(x, w, b):\n",
        "    return np.dot(w, x) + b\n",
        "\n",
        "for i in range(len(x_train)):\n",
        "    print(f\"prediction: {predict(x_train[i], w, b)}  actual: {y_train[i]}\")"
      ],
      "metadata": {
        "colab": {
          "base_uri": "https://localhost:8080/"
        },
        "id": "U3N2347WAII6",
        "outputId": "0bfdfc81-47db-4604-c03d-da0a71de5f37"
      },
      "execution_count": 22,
      "outputs": [
        {
          "output_type": "stream",
          "name": "stdout",
          "text": [
            "trainig data:\n",
            " [[2104    5    1   45]\n",
            " [1416    3    2   40]\n",
            " [ 852    2    1   35]]\n",
            "[460 232 178]\n",
            "-----------------\n",
            "[ 0.20396569  0.00374919 -0.0112487  -0.0658614 ] -0.002235407530932535\n",
            "prediction: 426.18530497189204  actual: 460\n",
            "prediction: 286.1674720078562  actual: 232\n",
            "prediction: 171.46763087132317  actual: 178\n"
          ]
        }
      ]
    }
  ]
}