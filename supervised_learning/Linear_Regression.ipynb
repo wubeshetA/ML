{
  "nbformat": 4,
  "nbformat_minor": 0,
  "metadata": {
    "colab": {
      "provenance": [],
      "authorship_tag": "ABX9TyM/u9Q6atI2folS1RwuTcus",
      "include_colab_link": true
    },
    "kernelspec": {
      "name": "python3",
      "display_name": "Python 3"
    },
    "language_info": {
      "name": "python"
    }
  },
  "cells": [
    {
      "cell_type": "markdown",
      "metadata": {
        "id": "view-in-github",
        "colab_type": "text"
      },
      "source": [
        "<a href=\"https://colab.research.google.com/github/wubeshetA/ML/blob/main/supervised_learning/Linear_Regression.ipynb\" target=\"_parent\"><img src=\"https://colab.research.google.com/assets/colab-badge.svg\" alt=\"Open In Colab\"/></a>"
      ]
    },
    {
      "cell_type": "code",
      "source": [],
      "metadata": {
        "id": "xtV7Bsnl5ITn"
      },
      "execution_count": null,
      "outputs": []
    },
    {
      "cell_type": "markdown",
      "source": [
        "# **Linear Regression**"
      ],
      "metadata": {
        "id": "PnKpX5YW5JCE"
      }
    },
    {
      "cell_type": "markdown",
      "source": [
        "## **Linear Regression with One Variable**"
      ],
      "metadata": {
        "id": "9-XY2HB65G-9"
      }
    },
    {
      "cell_type": "markdown",
      "source": [
        "The following is the very basic implementation of Linear regression with one variable."
      ],
      "metadata": {
        "id": "KvA3C1_I6TIg"
      }
    },
    {
      "cell_type": "markdown",
      "source": [
        "## **Notes**\n",
        "\n",
        "The goal of Linear regression model is to find a line (find w and b) that fits the data points best. This line is define by $$f_{w,b}(x) = wx + b \\tag{1}$$\n",
        "\n",
        "In linear regression, we utilize input training data to fit the parameters $w$,$b$ by minimizing a measure of the error between our predictions $f_{w,b}(x^{(i)})$ and the actual data $y^{(i)}$. The measure is called the $cost$, $J(w,b)$. In training you measure the cost over all of our training samples $x^{(i)},y^{(i)}$\n",
        "$$J(w,b) = \\frac{1}{2m} \\sum\\limits_{i = 0}^{m-1} (f_{w,b}(x^{(i)}) - y^{(i)})^2\\tag{2}$$\n",
        "\n",
        "To minimize the cost function (to find the best fitting line), gradient descent algorithm says:\n",
        "\n",
        "$$\\begin{align*} \\text{repeat}&\\text{ until convergence:} \\; \\lbrace \\newline\n",
        "\\;  w &= w -  \\alpha \\frac{\\partial J(w,b)}{\\partial w} \\tag{3}  \\; \\newline\n",
        " b &= b -  \\alpha \\frac{\\partial J(w,b)}{\\partial b}  \\newline \\rbrace\n",
        "\\end{align*}$$\n",
        "where, parameters $w$, $b$ are updated simultaneously.  \n",
        "The gradient is defined as:\n",
        "$$\n",
        "\\begin{align}\n",
        "\\frac{\\partial J(w,b)}{\\partial w}  &= \\frac{1}{m} \\sum\\limits_{i = 0}^{m-1} (f_{w,b}(x^{(i)}) - y^{(i)})x^{(i)} \\tag{4}\\\\\n",
        "  \\frac{\\partial J(w,b)}{\\partial b}  &= \\frac{1}{m} \\sum\\limits_{i = 0}^{m-1} (f_{w,b}(x^{(i)}) - y^{(i)}) \\tag{5}\\\\\n",
        "\\end{align}\n",
        "$$\n",
        "\n",
        "Here *simultaniously* means that you calculate the partial derivatives for all the parameters before updating any of the parameters."
      ],
      "metadata": {
        "id": "S4jywxqFEnt9"
      }
    },
    {
      "cell_type": "code",
      "source": [
        "# import packages\n",
        "import numpy as np\n",
        "import matplotlib.pyplot as plt"
      ],
      "metadata": {
        "id": "wWuDOtzv6fIs"
      },
      "execution_count": 10,
      "outputs": []
    },
    {
      "cell_type": "code",
      "source": [
        "# Training data\n",
        "x_train = np.array([1.0, 2.0])\n",
        "y_train = np.array([300.0, 500.0])\n"
      ],
      "metadata": {
        "id": "H0gNSobQ648l"
      },
      "execution_count": 27,
      "outputs": []
    },
    {
      "cell_type": "code",
      "source": [
        "# raw data visualization\n",
        "plt.scatter(x_train, y_train)\n",
        "plt.show()"
      ],
      "metadata": {
        "colab": {
          "base_uri": "https://localhost:8080/",
          "height": 430
        },
        "id": "rTDiqekbRbgG",
        "outputId": "c13438dc-bef6-4bd7-9733-d27425af0788"
      },
      "execution_count": 28,
      "outputs": [
        {
          "output_type": "display_data",
          "data": {
            "text/plain": [
              "<Figure size 640x480 with 1 Axes>"
            ],
            "image/png": "[encoded data removed]"
          },
          "metadata": {}
        }
      ]
    },
    {
      "cell_type": "markdown",
      "source": [
        "**Compute cost**"
      ],
      "metadata": {
        "id": "Mcast1ePTQot"
      }
    },
    {
      "cell_type": "code",
      "source": [
        "def cost(x_train, y_train, w, b):\n",
        "  # cost function\n",
        "  # here is the formula for cost (error):  mean square error\n",
        "  \"\"\"\n",
        "  f_wb = w*x_train[i] + b\n",
        "  MSE(mean squared error) = (∑((f_wb - y[i]) ** 2))/2*m = cost\n",
        "  \"\"\"\n",
        "  m = len(x_train)\n",
        "  total_error = 0\n",
        "  for i in range(m):\n",
        "    # calculate the total error\n",
        "    f_wb = w*x_train[i] + b\n",
        "    total_error += (f_wb - y_train[i])**2\n",
        "\n",
        "  # average error (cost)\n",
        "  avg_cost = total_error/(2*m)\n",
        "  return avg_cost"
      ],
      "metadata": {
        "id": "ESCmI5k9T-Gh"
      },
      "execution_count": 42,
      "outputs": []
    },
    {
      "cell_type": "markdown",
      "source": [
        "  $$\n",
        "\\begin{align}\n",
        "\\frac{\\partial J(w,b)}{\\partial w}  &= \\frac{1}{m} \\sum\\limits_{i = 0}^{m-1} (f_{w,b}(x^{(i)}) - y^{(i)})x^{(i)} \\tag{4}\\\\\n",
        "  \\frac{\\partial J(w,b)}{\\partial b}  &= \\frac{1}{m} \\sum\\limits_{i = 0}^{m-1} (f_{w,b}(x^{(i)}) - y^{(i)}) \\tag{5}\\\\\n",
        "\\end{align}\n",
        "$$"
      ],
      "metadata": {
        "id": "P5VJ58YCfo7C"
      }
    },
    {
      "cell_type": "code",
      "source": [
        "def gradient(x_train, y_train,w, b):\n",
        "  m = len(x_train)\n",
        "  dJ_w = 0\n",
        "  dJ_b = 0\n",
        "  for i in range(m):\n",
        "    # calculate the total error\n",
        "    f_wb = w*x_train[i] + b\n",
        "    dJ_w += ((f_wb - y_train[i])*x_train[i])\n",
        "    dJ_b += ((f_wb - y_train[i]))\n",
        "  # average error (cost)\n",
        "  dJ_w = dJ_w / m\n",
        "  dJ_b = dJ_b / m\n",
        "  return (dJ_w, dJ_b)"
      ],
      "metadata": {
        "id": "_tpGR6DMeXZE"
      },
      "execution_count": 34,
      "outputs": []
    },
    {
      "cell_type": "code",
      "source": [
        "# Find optimized W and B\n",
        "def find_best_fiting(x_train, y_train, init_w, init_b, alpha, iteration):\n",
        "\n",
        "  w = init_w\n",
        "  b = init_b\n",
        "\n",
        "\n",
        "  for i in range(iteration):\n",
        "    if i < 100 or (i >= 10_000 and i % 10_000 == 0):\n",
        "      print(f\"{i}th, w: {w}, b: {b}, cost: {cost(x_train, y_train, w, b)}\")\n",
        "    dJ_w, dJ_b = gradient(x_train, y_train, w, b)\n",
        "    w = w - alpha * dJ_w\n",
        "    b = b - alpha * dJ_b\n",
        "  return (w, b)\n"
      ],
      "metadata": {
        "id": "tsrWSxP0S0sh"
      },
      "execution_count": 46,
      "outputs": []
    },
    {
      "cell_type": "code",
      "source": [
        "alpha = 10**-2\n",
        "iteration = 100_000\n",
        "init_w = 190\n",
        "init_b = 95\n",
        "\n",
        "w, b = find_best_fiting(x_train, y_train, init_w, init_b, alpha, iteration)\n"
      ],
      "metadata": {
        "colab": {
          "base_uri": "https://localhost:8080/"
        },
        "id": "dHgaMiW7h6jZ",
        "outputId": "daeb3b5d-833c-4860-b4f3-f94f3e067cf1"
      },
      "execution_count": 48,
      "outputs": [
        {
          "output_type": "stream",
          "name": "stdout",
          "text": [
            "0th, w: 190, b: 95, cost: 212.5\n",
            "1th, w: 190.325, b: 95.2, cost: 198.1870312500006\n",
            "2th, w: 190.63887499999998, b: 95.393125, cost: 184.83827431640677\n",
            "3th, w: 190.94200625, b: 95.579610625, cost: 172.38877357908018\n",
            "4th, w: 191.234761934375, b: 95.759684425, cost: 160.77794925402466\n",
            "5th, w: 191.51749761964064, b: 95.93356615173438, cost: 149.94930260839342\n",
            "6th, w: 191.7905566868736, b: 96.10146802592243, cost: 139.85014103414832\n",
            "7th, w: 192.05427074931293, b: 96.2635949953601, cost: 130.43132164255016\n",
            "8th, w: 192.30896005564972, b: 96.4201449841668, cost: 121.64701213181644\n",
            "9th, w: 192.55493387949596, b: 96.57130913349039, cost: 113.45446776428787\n",
            "10th, w: 192.7924908955062, b: 96.71727203396304, cost: 105.81382336788351\n",
            "11th, w: 193.0219195426091, b: 96.85821195019082, cost: 98.68789934969416\n",
            "12th, w: 193.24349837479102, b: 96.99430103754977, cost: 92.04202077777781\n",
            "13th, w: 193.457496399858, b: 97.12570555155241, cost: 85.84384865078194\n",
            "14th, w: 193.66417340658828, b: 97.25258605003901, cost: 80.06322253435866\n",
            "15th, w: 193.86378028067298, b: 97.3750975884398, cost: 74.67201379861638\n",
            "16th, w: 194.05655930982957, b: 97.4933899083453, cost: 69.64398874245796\n",
            "17th, w: 194.24274447845866, b: 97.60760761961441, cost: 64.95468093876401\n",
            "18th, w: 194.42256175220297, b: 97.71789037624139, cost: 60.58127217923804\n",
            "19th, w: 194.59622935275428, b: 97.82437304619593, cost: 56.50248143958688\n",
            "20th, w: 194.76395802324248, b: 97.92718587544266, cost: 52.69846132473788\n",
            "21th, w: 194.9259512845298, b: 98.0264546463396, cost: 49.15070149017727\n",
            "22th, w: 195.08240568272146, b: 98.12230083060825, cost: 45.841938569469235\n",
            "23th, w: 195.2335110281943, b: 98.21484173706135, cost: 42.756072169637996\n",
            "24th, w: 195.3794506264335, b: 98.30419065426781, cost: 39.87808652566009\n",
            "25th, w: 195.52040150095866, b: 98.39045698832864, cost: 37.19397743281506\n",
            "26th, w: 195.65653460860975, b: 98.47374639593097, cost: 34.690684101360674\n",
            "27th, w: 195.78801504745553, b: 98.55416091284252, cost: 32.35602560191439\n",
            "28th, w: 195.9150022575765, b: 98.63179907800226, cost: 30.17864159229786\n",
            "29th, w: 196.03765021496704, b: 98.70675605335859, cost: 28.14793703740549\n",
            "30th, w: 196.15610761879248, b: 98.7791237396005, cost: 26.254030653105307\n",
            "31th, w: 196.27051807222867, b: 98.8489908879226, cost: 24.487706823298048\n",
            "32th, w: 196.38102025710413, b: 98.91644320795994, cost: 22.840370756156638\n",
            "33th, w: 196.48774810255713, b: 98.98156347202378, cost: 21.30400666133639\n",
            "34th, w: 196.59083094791285, b: 99.04443161576519, cost: 19.87113874463994\n",
            "35th, w: 196.69039369997856, b: 99.10512483538885, cost: 18.534794830340655\n",
            "36th, w: 196.78655698494825, b: 99.16371768153529, cost: 17.28847243414206\n",
            "37th, w: 196.87943729510152, b: 99.22028214994572, cost: 16.12610712168527\n",
            "38th, w: 196.9691471304748, b: 99.27488776901974, cost: 15.042042998636532\n",
            "39th, w: 197.05579513567764, b: 99.32760168437242, cost: 14.031005188752976\n",
            "40th, w: 197.13948623202012, b: 99.37848874049354, cost: 13.08807416600881\n",
            "41th, w: 197.22032174511222, b: 99.4276115596083, cost: 12.208661815876004\n",
            "42th, w: 197.29839952809027, b: 99.47503061783553, cost: 11.388489109274328\n",
            "43th, w: 197.3738140806205, b: 99.52080431873581, cost: 10.623565280550277\n",
            "44th, w: 197.44665666382394, b: 99.56498906433914, cost: 9.910168408165578\n",
            "45th, w: 197.51701541126326, b: 99.6076393237384, cost: 9.244827303594308\n",
            "46th, w: 197.5849754361256, b: 99.64880769933207, cost: 8.624304620305104\n",
            "47th, w: 197.65061893473248, b: 99.68854499079686, cost: 8.045581100632731\n",
            "48th, w: 197.71402528650222, b: 99.7269002568679, cost: 7.505840883882568\n",
            "49th, w: 197.77527115048665, b: 99.7639208750017, cost: 7.0024578041786585\n",
            "50th, w: 197.83443055859945, b: 99.79965259899438, cost: 6.532982611377351\n",
            "51th, w: 197.89157500564954, b: 99.83413961462544, cost: 6.095131052864978\n",
            "52th, w: 197.94677353628893, b: 99.86742459339445, cost: 5.686772758242283\n",
            "53th, w: 198.0000928289808, b: 99.89954874441617, cost: 5.305920872811743\n",
            "54th, w: 198.05159727709002, b: 99.93055186453729, cost: 4.950722389418262\n",
            "55th, w: 198.10134906719472, b: 99.96047238673557, cost: 4.619449131602197\n",
            "56th, w: 198.14940825471382, b: 99.98934742686029, cost: 4.310489344186569\n",
            "57th, w: 198.19583283694308, b: 100.01721282877098, cost: 4.022339850375308\n",
            "58th, w: 198.24067882358793, b: 100.04410320792913, cost: 3.753598737203606\n",
            "59th, w: 198.2840003048793, b: 100.07005199349602, cost: 3.502958533741659\n",
            "60th, w: 198.32584951735487, b: 100.09509146898787, cost: 3.2691998488610006\n",
            "61th, w: 198.36627690738618, b: 100.11925281153768, cost: 3.0511854376020846\n",
            "62th, w: 198.40533119252845, b: 100.14256612981151, cost: 2.8478546672695515\n",
            "63th, w: 198.44305942076807, b: 100.16506050062547, cost: 2.6582183563289705\n",
            "64th, w: 198.4795070277395, b: 100.18676400430769, cost: 2.48135396098792\n",
            "65th, w: 198.51471789198138, b: 100.20770375884852, cost: 2.316401086041289\n",
            "66th, w: 198.54873438829912, b: 100.22790595288032, cost: 2.1625572981353676\n",
            "67th, w: 198.58159743929843, b: 100.24739587752703, cost: 2.0190742210776143\n",
            "68th, w: 198.61334656515308, b: 100.26619795716228, cost: 1.8852538941921906\n",
            "69th, w: 198.64401993166683, b: 100.28433577911336, cost: 1.7604453760004999\n",
            "70th, w: 198.67365439668845, b: 100.30183212234722, cost: 1.644041576700046\n",
            "71th, w: 198.70228555493603, b: 100.31870898517342, cost: 1.5354763040279156\n",
            "72th, w: 198.72994778128503, b: 100.33498761199765, cost: 1.434221508135015\n",
            "73th, w: 198.75667427257295, b: 100.3506885191584, cost: 1.3397847120628723\n",
            "74th, w: 198.78249708797125, b: 100.36583151987821, cost: 1.2517066153208647\n",
            "75th, w: 198.8074471879738, b: 100.38043574835986, cost: 1.1695588589018244\n",
            "76th, w: 198.83155447204905, b: 100.39451968305666, cost: 1.0929419408609968\n",
            "77th, w: 198.85484781500196, b: 100.40810116914535, cost: 1.021483272315529\n",
            "78th, w: 198.87735510208972, b: 100.42119744022887, cost: 0.9548353644039369\n",
            "79th, w: 198.89910326293403, b: 100.43382513929524, cost: 0.892674137384423\n",
            "80th, w: 198.92011830427126, b: 100.44600033895827, cost: 0.8346973436431286\n",
            "81th, w: 198.9404253415801, b: 100.45773856100462, cost: 0.780623096939208\n",
            "82th, w: 198.96004862962553, b: 100.46905479527086, cost: 0.7301885007290011\n",
            "83th, w: 198.97901159195584, b: 100.47996351787377, cost: 0.6831483688957317\n",
            "84th, w: 198.99733684938883, b: 100.4904787088157, cost: 0.6392740326593672\n",
            "85th, w: 199.01504624752187, b: 100.5006138689867, cost: 0.5983522278602881\n",
            "86th, w: 199.032160883299, b: 100.510382036584, cost: 0.5601840572032158\n",
            "87th, w: 199.04870113066778, b: 100.51979580296867, cost: 0.5245840224112622\n",
            "88th, w: 199.06468666535656, b: 100.52886732797897, cost: 0.49137912158013614\n",
            "89th, w: 199.08013648880296, b: 100.53760835471883, cost: 0.4604080073406337\n",
            "90th, w: 199.0950689512621, b: 100.5460302238396, cost: 0.4315202017328685\n",
            "91th, w: 199.10950177412295, b: 100.55414388733227, cost: 0.40457536397158733\n",
            "92th, w: 199.1234520714599, b: 100.5619599218471, cost: 0.3794426075396697\n",
            "93th, w: 199.1369363708457, b: 100.56948854155674, cost: 0.35599986328684907\n",
            "94th, w: 199.1499706334512, b: 100.57673961057849, cost: 0.3341332854338457\n",
            "95th, w: 199.16257027345625, b: 100.58372265497093, cost: 0.3137366975925315\n",
            "96th, w: 199.17475017679527, b: 100.59044687431937, cost: 0.29471107610529473\n",
            "97th, w: 199.1865247192606, b: 100.59692115292425, cost: 0.27696406819023955\n",
            "98th, w: 199.19790778398522, b: 100.6031540706061, cost: 0.2604095425475737\n",
            "99th, w: 199.2089127783265, b: 100.60915391314026, cost: 0.2449671702394349\n",
            "10000th, w: 199.9996425375658, b: 100.00057838636813, cost: 1.686253665760182e-08\n",
            "20000th, w: 199.99999975793125, b: 100.00000039167546, cost: 7.73285035833161e-15\n",
            "30000th, w: 199.99999999983424, b: 100.00000000026779, cost: 3.61783758330119e-21\n",
            "40000th, w: 199.99999999999005, b: 100.00000000001563, cost: 1.2621774483536189e-23\n",
            "50000th, w: 199.99999999999005, b: 100.00000000001563, cost: 1.2621774483536189e-23\n",
            "60000th, w: 199.99999999999005, b: 100.00000000001563, cost: 1.2621774483536189e-23\n",
            "70000th, w: 199.99999999999005, b: 100.00000000001563, cost: 1.2621774483536189e-23\n",
            "80000th, w: 199.99999999999005, b: 100.00000000001563, cost: 1.2621774483536189e-23\n",
            "90000th, w: 199.99999999999005, b: 100.00000000001563, cost: 1.2621774483536189e-23\n"
          ]
        }
      ]
    },
    {
      "cell_type": "markdown",
      "source": [],
      "metadata": {
        "id": "N-xQhIh-T-pk"
      }
    }
  ]
}